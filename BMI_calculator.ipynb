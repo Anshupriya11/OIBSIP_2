{
  "nbformat": 4,
  "nbformat_minor": 0,
  "metadata": {
    "colab": {
      "provenance": []
    },
    "kernelspec": {
      "name": "python3",
      "display_name": "Python 3"
    },
    "language_info": {
      "name": "python"
    }
  },
  "cells": [
    {
      "cell_type": "code",
      "execution_count": null,
      "metadata": {
        "colab": {
          "base_uri": "https://localhost:8080/"
        },
        "id": "LD4-IeAdbVTb",
        "outputId": "d67aef20-b0b2-4336-b43a-cc47c61c3a67"
      },
      "outputs": [
        {
          "output_type": "stream",
          "name": "stdout",
          "text": [
            "Enter your height in cm:- 165\n",
            "enter your weight in kg:- 65\n",
            "your body mass index is:  23.88\n",
            "you are healty !\n"
          ]
        }
      ],
      "source": [
        "#BMI Body Mass Index\n",
        "\n",
        "height=float(input(\"Enter your height in cm:- \"))\n",
        "weight=float(input(\"enter your weight in kg:- \"))\n",
        "height=height/100\n",
        "\n",
        "bmi= weight/(height*height)\n",
        "\n",
        "print(\"your body mass index is: \",round(bmi,2))\n",
        "\n",
        "if(bmi>0):\n",
        "  if(bmi<=16):\n",
        "    print(\"you are severely underweight !\")\n",
        "  elif(bmi<=18.5):\n",
        "    print(\"you are  underweight !\")\n",
        "  elif(bmi<=25):\n",
        "    print(\"you are healty !\")\n",
        "  elif(bmi<=30):\n",
        "    print(\"you are  overrweight !\")\n",
        "  else:\n",
        "    print(\"you are severely Overweight !\")\n",
        "else:\n",
        "  print(\"Enter valid details....!\")\n"
      ]
    }
  ]
}